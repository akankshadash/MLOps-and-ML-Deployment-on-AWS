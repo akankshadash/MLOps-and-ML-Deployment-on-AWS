{
 "cells": [
  {
   "cell_type": "markdown",
   "metadata": {},
   "source": [
    "## AWS EC2 with Boto3 Python Tutorial "
   ]
  },
  {
   "cell_type": "markdown",
   "metadata": {},
   "source": [
    "https://boto3.amazonaws.com/v1/documentation/api/latest/guide/quickstart.html"
   ]
  },
  {
   "cell_type": "markdown",
   "metadata": {},
   "source": [
    "Amazon Elastic Compute Cloud (Amazon EC2) is a web service that provides resizeable computing capacity in servers in Amazon's data centers—that you use to build and host your software systems."
   ]
  },
  {
   "cell_type": "markdown",
   "metadata": {},
   "source": [
    "- Create Key-Pair for Secure Connection\n",
    "- Create an Amazon EC2 instance\n",
    "    - test with ip address in browser\n",
    "    - test with ssh connection\n",
    "- Create Security Group and add rules to it\n",
    "- Attaching and Detaching Security Groups to Amazon EC2 instances\n",
    "    - test with ip address in browser\n",
    "    - test with ssh connection\n",
    "- Start, Stop and Delete Amazon EC2 instances"
   ]
  },
  {
   "cell_type": "markdown",
   "metadata": {},
   "source": [
    "## Create Key-Pair for Secure Connection"
   ]
  },
  {
   "cell_type": "code",
   "execution_count": 1,
   "metadata": {},
   "outputs": [],
   "source": [
    "import boto3"
   ]
  },
  {
   "cell_type": "code",
   "execution_count": null,
   "metadata": {},
   "outputs": [],
   "source": [
    "ec2 = boto3.client('ec2')\n",
    "\n",
    "ec2.describe_instances()\n",
    "\n",
    "resp = ec2.create_key_pair(KeyName='my-key-pair')\n",
    "# print(resp['KeyMaterial'])"
   ]
  },
  {
   "cell_type": "code",
   "execution_count": 7,
   "metadata": {},
   "outputs": [],
   "source": [
    "file = open(\"Creds/my-key-pair.pem\", 'w')\n",
    "file.write(resp['KeyMaterial'])\n",
    "file.close()"
   ]
  },
  {
   "cell_type": "markdown",
   "metadata": {},
   "source": [
    "easy way of creating the keypair and loading it here rather than manually creating and download .pem file if you see AD1.pem is the one manually created and downloaded which we are going to use it here"
   ]
  },
  {
   "cell_type": "markdown",
   "metadata": {},
   "source": [
    "<!--easy way of creating keypair and loading here rather than manually creating and download  -->"
   ]
  },
  {
   "cell_type": "markdown",
   "metadata": {},
   "source": [
    "## Create an Amazon EC2 instance"
   ]
  },
  {
   "cell_type": "code",
   "execution_count": null,
   "metadata": {},
   "outputs": [],
   "source": [
    "ec2.describe_instances() #to check what does it hold before passing the necessary parameters."
   ]
  },
  {
   "cell_type": "code",
   "execution_count": 9,
   "metadata": {},
   "outputs": [],
   "source": [
    "ec2.describe_instances()\n",
    "\n",
    "response = ec2.run_instances(\n",
    "    ImageId = 'ami-05ffe3c48a9991133',  #  AMI ID for Ubuntu 20.04 in us-east-1 changes basis the OS yo want to use i have choosen aws linux \n",
    "    MinCount=1,\n",
    "    MaxCount=1,\n",
    "    InstanceType='t2.micro',\n",
    "    KeyName='my-key-pair',\n",
    "    BlockDeviceMappings=[\n",
    "        {\n",
    "            \"DeviceName\": \"/dev/xvda\",\n",
    "            'Ebs':{\n",
    "                'DeleteOnTermination': True, # if you want to delete the volume when instance is terminated \n",
    "                'VolumeSize': 20    # size of the volume in GB free tier is 30 GB \n",
    "            }\n",
    "        }\n",
    "    ]\n",
    "\n",
    ")"
   ]
  },
  {
   "cell_type": "code",
   "execution_count": null,
   "metadata": {},
   "outputs": [],
   "source": [
    "response"
   ]
  },
  {
   "cell_type": "markdown",
   "metadata": {},
   "source": [
    "## Create Security Group and add rules to it\n",
    "- Security groups control inbound and outbound traffic of the EC2 instance network interface.\n",
    "- every EC2 instance must have at least one Security Group associated with it. If no Security Group has been specified during the EC2 instance launch, the default Security Group of the default VPC is associated with the instance."
   ]
  },
  {
   "cell_type": "code",
   "execution_count": 12,
   "metadata": {},
   "outputs": [],
   "source": [
    "response = ec2.describe_security_groups()\n",
    "\n",
    "response = ec2.create_security_group(\n",
    "    GroupName = 'ADGroupname',\n",
    "    Description = \"Security group for testing purpose\"\n",
    ")"
   ]
  },
  {
   "cell_type": "code",
   "execution_count": 13,
   "metadata": {},
   "outputs": [
    {
     "data": {
      "text/plain": [
       "'sg-05583770644e80787'"
      ]
     },
     "execution_count": 13,
     "metadata": {},
     "output_type": "execute_result"
    }
   ],
   "source": [
    "security_group_id = response['GroupId']\n",
    "security_group_id"
   ]
  },
  {
   "cell_type": "code",
   "execution_count": 15,
   "metadata": {},
   "outputs": [],
   "source": [
    "# ip, port, traffic type\n",
    "response = ec2.authorize_security_group_ingress(\n",
    "    GroupId = security_group_id,\n",
    "    IpPermissions=[\n",
    "        {\n",
    "            'IpProtocol': 'tcp',\n",
    "            'FromPort': 22,\n",
    "            'ToPort': 22,\n",
    "            'IpRanges': [{'CidrIp': '0.0.0.0/0'}]\n",
    "        },\n",
    "        {\n",
    "            'IpProtocol': 'tcp',\n",
    "            'FromPort': 80,\n",
    "            'ToPort': 80,\n",
    "            'IpRanges': [{'CidrIp': '0.0.0.0/0'}]\n",
    "        }\n",
    "    ]\n",
    ")"
   ]
  },
  {
   "cell_type": "code",
   "execution_count": null,
   "metadata": {},
   "outputs": [
    {
     "data": {
      "text/plain": [
       "('i-0929bd4287a6af5b2', 'sg-05583770644e80787')"
      ]
     },
     "execution_count": 16,
     "metadata": {},
     "output_type": "execute_result"
    }
   ],
   "source": [
    "response = ec2.describe_instances()\n",
    "\n",
    "instance_id = response['Reservations'][0]['Instances'][0]['InstanceId']\n",
    "instance_id, security_group_id"
   ]
  },
  {
   "cell_type": "code",
   "execution_count": 17,
   "metadata": {},
   "outputs": [],
   "source": [
    "old_gid = response['Reservations'][0]['Instances'][0]['SecurityGroups'][0]['GroupId']"
   ]
  },
  {
   "cell_type": "code",
   "execution_count": null,
   "metadata": {},
   "outputs": [],
   "source": [
    "ec2.modify_instance_attribute(InstanceId=instance_id, Groups=[security_group_id])"
   ]
  },
  {
   "cell_type": "code",
   "execution_count": null,
   "metadata": {},
   "outputs": [],
   "source": [
    "ec2.modify_instance_attribute(InstanceId=instance_id, Groups=[old_gid, security_group_id])"
   ]
  },
  {
   "cell_type": "code",
   "execution_count": null,
   "metadata": {},
   "outputs": [],
   "source": []
  },
  {
   "cell_type": "code",
   "execution_count": null,
   "metadata": {},
   "outputs": [],
   "source": []
  },
  {
   "cell_type": "markdown",
   "metadata": {},
   "source": [
    "## Start, Stop and Delete Amazon EC2 instances"
   ]
  },
  {
   "cell_type": "code",
   "execution_count": null,
   "metadata": {},
   "outputs": [
    {
     "name": "stdout",
     "output_type": "stream",
     "text": [
      "EC2 Instance Start\n",
      "Instance is in running state\n"
     ]
    }
   ],
   "source": [
    "# status -> running, stopped, terminated, pending etc.\n",
    "\n",
    "import time\n",
    "\n",
    "def wait_for_status(instance_id, target_status):\n",
    "    while True:\n",
    "        response = ec2.describe_instances(InstanceIds=instance_id)\n",
    "\n",
    "        status = response['Reservations'][0]['Instances'][0]['State']['Name']\n",
    "\n",
    "        if status == target_status:\n",
    "            print(\"Instance is in {} state\".format(target_status))\n",
    "            break\n",
    "        \n",
    "        time.sleep(10)\n",
    "\n",
    "\n",
    "def start_instances(instance_id):\n",
    "    print(\"EC2 Instance Start\")\n",
    "    ec2.start_instances(InstanceIds=instance_id)\n",
    "\n",
    "    wait_for_status(instance_id, 'running')\n",
    "\n",
    "start_instances([instance_id])\n"
   ]
  },
  {
   "cell_type": "code",
   "execution_count": null,
   "metadata": {},
   "outputs": [
    {
     "name": "stdout",
     "output_type": "stream",
     "text": [
      "EC2 Instance Stop\n",
      "Instance is in stopped state\n"
     ]
    }
   ],
   "source": [
    "def stop_instances(instance_id):\n",
    "    print(\"EC2 Instance Stop\")\n",
    "    ec2.stop_instances(InstanceIds=instance_id)\n",
    "\n",
    "    wait_for_status(instance_id, 'stopped')\n",
    "\n",
    "stop_instances([instance_id])"
   ]
  },
  {
   "cell_type": "code",
   "execution_count": null,
   "metadata": {},
   "outputs": [
    {
     "name": "stdout",
     "output_type": "stream",
     "text": [
      "EC2 Instance Termination\n",
      "Instance is in terminated state\n"
     ]
    }
   ],
   "source": [
    "def terminate_instances(instance_id):\n",
    "    print(\"EC2 Instance Termination\")\n",
    "    ec2.terminate_instances(InstanceIds=instance_id)\n",
    "\n",
    "    wait_for_status(instance_id, 'terminated')\n",
    "\n",
    "terminate_instances([instance_id])"
   ]
  },
  {
   "cell_type": "code",
   "execution_count": null,
   "metadata": {},
   "outputs": [],
   "source": []
  }
 ],
 "metadata": {
  "kernelspec": {
   "display_name": "venv",
   "language": "python",
   "name": "python3"
  },
  "language_info": {
   "codemirror_mode": {
    "name": "ipython",
    "version": 3
   },
   "file_extension": ".py",
   "mimetype": "text/x-python",
   "name": "python",
   "nbconvert_exporter": "python",
   "pygments_lexer": "ipython3",
   "version": "3.11.13"
  }
 },
 "nbformat": 4,
 "nbformat_minor": 4
}
